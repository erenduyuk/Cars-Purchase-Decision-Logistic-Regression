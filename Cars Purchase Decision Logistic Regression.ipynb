{
 "cells": [
  {
   "cell_type": "code",
   "execution_count": 1,
   "id": "4b2c4dd8",
   "metadata": {},
   "outputs": [],
   "source": [
    "# İmport necessary librarities\n",
    "import numpy as np\n",
    "import pandas as pd\n",
    "import tensorflow as tf\n",
    "from sklearn.model_selection import train_test_split\n",
    "from tensorflow.keras.models import Sequential\n",
    "from tensorflow.keras.layers import Dense\n",
    "import matplotlib.pyplot as plt\n",
    "from autils import *\n",
    "%matplotlib inline"
   ]
  },
  {
   "cell_type": "code",
   "execution_count": 2,
   "id": "dfd4cc40",
   "metadata": {},
   "outputs": [],
   "source": [
    "# Load data\n",
    "data = pd.read_csv(\"car_data.csv\")"
   ]
  },
  {
   "cell_type": "code",
   "execution_count": 3,
   "id": "fcf55350",
   "metadata": {},
   "outputs": [
    {
     "name": "stdout",
     "output_type": "stream",
     "text": [
      "<class 'pandas.core.frame.DataFrame'>\n",
      "RangeIndex: 1000 entries, 0 to 999\n",
      "Data columns (total 5 columns):\n",
      " #   Column        Non-Null Count  Dtype \n",
      "---  ------        --------------  ----- \n",
      " 0   User ID       1000 non-null   int64 \n",
      " 1   Gender        1000 non-null   object\n",
      " 2   Age           1000 non-null   int64 \n",
      " 3   AnnualSalary  1000 non-null   int64 \n",
      " 4   Purchased     1000 non-null   int64 \n",
      "dtypes: int64(4), object(1)\n",
      "memory usage: 39.2+ KB\n"
     ]
    }
   ],
   "source": [
    "data.info()"
   ]
  },
  {
   "cell_type": "code",
   "execution_count": 4,
   "id": "3a7bd33d",
   "metadata": {},
   "outputs": [
    {
     "data": {
      "text/plain": [
       "0        Male\n",
       "1        Male\n",
       "2        Male\n",
       "3        Male\n",
       "4        Male\n",
       "        ...  \n",
       "995      Male\n",
       "996    Female\n",
       "997    Female\n",
       "998    Female\n",
       "999    Female\n",
       "Name: Gender, Length: 1000, dtype: object"
      ]
     },
     "execution_count": 4,
     "metadata": {},
     "output_type": "execute_result"
    }
   ],
   "source": [
    "data[\"Gender\"]"
   ]
  },
  {
   "cell_type": "code",
   "execution_count": 5,
   "id": "93c86588",
   "metadata": {},
   "outputs": [],
   "source": [
    "# Gender convert to int64 from object\n",
    "data['Gender'] = data['Gender'].replace({'Male': 0, 'Female': 1})"
   ]
  },
  {
   "cell_type": "code",
   "execution_count": 6,
   "id": "36d95620",
   "metadata": {},
   "outputs": [
    {
     "data": {
      "text/plain": [
       "0      0\n",
       "1      0\n",
       "2      0\n",
       "3      0\n",
       "4      0\n",
       "      ..\n",
       "995    0\n",
       "996    1\n",
       "997    1\n",
       "998    1\n",
       "999    1\n",
       "Name: Gender, Length: 1000, dtype: int64"
      ]
     },
     "execution_count": 6,
     "metadata": {},
     "output_type": "execute_result"
    }
   ],
   "source": [
    "data[\"Gender\"]"
   ]
  },
  {
   "cell_type": "code",
   "execution_count": 7,
   "id": "7e1bad44",
   "metadata": {},
   "outputs": [],
   "source": [
    "# Split features(x) and dependent variable(y)\n",
    "x = data.drop(\"Purchased\", axis=1).values\n",
    "y = data[\"Purchased\"].values"
   ]
  },
  {
   "cell_type": "code",
   "execution_count": 8,
   "id": "73346747",
   "metadata": {},
   "outputs": [
    {
     "name": "stdout",
     "output_type": "stream",
     "text": [
      "x shape is:  (1000, 4)\n",
      "y shape is:  (1000,)\n"
     ]
    }
   ],
   "source": [
    "# Shape of x_train and y_train\n",
    "print(\"x shape is: \", x.shape)\n",
    "print(\"y shape is: \", y.shape)"
   ]
  },
  {
   "cell_type": "code",
   "execution_count": 9,
   "id": "59b06b85",
   "metadata": {},
   "outputs": [
    {
     "name": "stdout",
     "output_type": "stream",
     "text": [
      "First five elements of x: [[   385      0     35  20000]\n",
      " [   681      0     40  43500]\n",
      " [   353      0     49  74000]\n",
      " [   895      0     40 107500]\n",
      " [   661      0     25  79000]]\n",
      "First five elements of y: [0 0 0 1 0]\n",
      "Number of training examples(m): 1000\n"
     ]
    }
   ],
   "source": [
    "print(\"First five elements of x:\", x[:5])\n",
    "print(\"First five elements of y:\", y[:5])\n",
    "print(\"Number of training examples(m):\", len(x))"
   ]
  },
  {
   "cell_type": "code",
   "execution_count": 10,
   "id": "d0ce4f94",
   "metadata": {},
   "outputs": [],
   "source": [
    "# Split x_train, x_test and y_train, y_test\n",
    "x_train, x_test, y_train, y_test = train_test_split(x,y,test_size=0.33,random_state=31)"
   ]
  },
  {
   "cell_type": "code",
   "execution_count": 11,
   "id": "bb33fafc",
   "metadata": {},
   "outputs": [
    {
     "name": "stdout",
     "output_type": "stream",
     "text": [
      "x_train length is:  670\n",
      "x_test length is:  330\n"
     ]
    }
   ],
   "source": [
    "print(\"x_train length is: \", len(x_train))\n",
    "print(\"x_test length is: \", len(x_test))"
   ]
  },
  {
   "cell_type": "code",
   "execution_count": 12,
   "id": "6165ca8d",
   "metadata": {},
   "outputs": [
    {
     "name": "stdout",
     "output_type": "stream",
     "text": [
      "y_train length is:  670\n",
      "y_test length is:  330\n"
     ]
    }
   ],
   "source": [
    "print(\"y_train length is: \", len(y_train))\n",
    "print(\"y_test length is: \", len(y_test))"
   ]
  },
  {
   "cell_type": "code",
   "execution_count": 13,
   "id": "59b9da4c",
   "metadata": {},
   "outputs": [],
   "source": [
    "from sklearn.preprocessing import MinMaxScaler"
   ]
  },
  {
   "cell_type": "code",
   "execution_count": 14,
   "id": "9ab6b665",
   "metadata": {},
   "outputs": [],
   "source": [
    "# Create scaler object\n",
    "scaler = MinMaxScaler()"
   ]
  },
  {
   "cell_type": "code",
   "execution_count": 15,
   "id": "7c3323bc",
   "metadata": {},
   "outputs": [
    {
     "data": {
      "text/html": [
       "<style>#sk-container-id-1 {color: black;}#sk-container-id-1 pre{padding: 0;}#sk-container-id-1 div.sk-toggleable {background-color: white;}#sk-container-id-1 label.sk-toggleable__label {cursor: pointer;display: block;width: 100%;margin-bottom: 0;padding: 0.3em;box-sizing: border-box;text-align: center;}#sk-container-id-1 label.sk-toggleable__label-arrow:before {content: \"▸\";float: left;margin-right: 0.25em;color: #696969;}#sk-container-id-1 label.sk-toggleable__label-arrow:hover:before {color: black;}#sk-container-id-1 div.sk-estimator:hover label.sk-toggleable__label-arrow:before {color: black;}#sk-container-id-1 div.sk-toggleable__content {max-height: 0;max-width: 0;overflow: hidden;text-align: left;background-color: #f0f8ff;}#sk-container-id-1 div.sk-toggleable__content pre {margin: 0.2em;color: black;border-radius: 0.25em;background-color: #f0f8ff;}#sk-container-id-1 input.sk-toggleable__control:checked~div.sk-toggleable__content {max-height: 200px;max-width: 100%;overflow: auto;}#sk-container-id-1 input.sk-toggleable__control:checked~label.sk-toggleable__label-arrow:before {content: \"▾\";}#sk-container-id-1 div.sk-estimator input.sk-toggleable__control:checked~label.sk-toggleable__label {background-color: #d4ebff;}#sk-container-id-1 div.sk-label input.sk-toggleable__control:checked~label.sk-toggleable__label {background-color: #d4ebff;}#sk-container-id-1 input.sk-hidden--visually {border: 0;clip: rect(1px 1px 1px 1px);clip: rect(1px, 1px, 1px, 1px);height: 1px;margin: -1px;overflow: hidden;padding: 0;position: absolute;width: 1px;}#sk-container-id-1 div.sk-estimator {font-family: monospace;background-color: #f0f8ff;border: 1px dotted black;border-radius: 0.25em;box-sizing: border-box;margin-bottom: 0.5em;}#sk-container-id-1 div.sk-estimator:hover {background-color: #d4ebff;}#sk-container-id-1 div.sk-parallel-item::after {content: \"\";width: 100%;border-bottom: 1px solid gray;flex-grow: 1;}#sk-container-id-1 div.sk-label:hover label.sk-toggleable__label {background-color: #d4ebff;}#sk-container-id-1 div.sk-serial::before {content: \"\";position: absolute;border-left: 1px solid gray;box-sizing: border-box;top: 0;bottom: 0;left: 50%;z-index: 0;}#sk-container-id-1 div.sk-serial {display: flex;flex-direction: column;align-items: center;background-color: white;padding-right: 0.2em;padding-left: 0.2em;position: relative;}#sk-container-id-1 div.sk-item {position: relative;z-index: 1;}#sk-container-id-1 div.sk-parallel {display: flex;align-items: stretch;justify-content: center;background-color: white;position: relative;}#sk-container-id-1 div.sk-item::before, #sk-container-id-1 div.sk-parallel-item::before {content: \"\";position: absolute;border-left: 1px solid gray;box-sizing: border-box;top: 0;bottom: 0;left: 50%;z-index: -1;}#sk-container-id-1 div.sk-parallel-item {display: flex;flex-direction: column;z-index: 1;position: relative;background-color: white;}#sk-container-id-1 div.sk-parallel-item:first-child::after {align-self: flex-end;width: 50%;}#sk-container-id-1 div.sk-parallel-item:last-child::after {align-self: flex-start;width: 50%;}#sk-container-id-1 div.sk-parallel-item:only-child::after {width: 0;}#sk-container-id-1 div.sk-dashed-wrapped {border: 1px dashed gray;margin: 0 0.4em 0.5em 0.4em;box-sizing: border-box;padding-bottom: 0.4em;background-color: white;}#sk-container-id-1 div.sk-label label {font-family: monospace;font-weight: bold;display: inline-block;line-height: 1.2em;}#sk-container-id-1 div.sk-label-container {text-align: center;}#sk-container-id-1 div.sk-container {/* jupyter's `normalize.less` sets `[hidden] { display: none; }` but bootstrap.min.css set `[hidden] { display: none !important; }` so we also need the `!important` here to be able to override the default hidden behavior on the sphinx rendered scikit-learn.org. See: https://github.com/scikit-learn/scikit-learn/issues/21755 */display: inline-block !important;position: relative;}#sk-container-id-1 div.sk-text-repr-fallback {display: none;}</style><div id=\"sk-container-id-1\" class=\"sk-top-container\"><div class=\"sk-text-repr-fallback\"><pre>MinMaxScaler()</pre><b>In a Jupyter environment, please rerun this cell to show the HTML representation or trust the notebook. <br />On GitHub, the HTML representation is unable to render, please try loading this page with nbviewer.org.</b></div><div class=\"sk-container\" hidden><div class=\"sk-item\"><div class=\"sk-estimator sk-toggleable\"><input class=\"sk-toggleable__control sk-hidden--visually\" id=\"sk-estimator-id-1\" type=\"checkbox\" checked><label for=\"sk-estimator-id-1\" class=\"sk-toggleable__label sk-toggleable__label-arrow\">MinMaxScaler</label><div class=\"sk-toggleable__content\"><pre>MinMaxScaler()</pre></div></div></div></div></div>"
      ],
      "text/plain": [
       "MinMaxScaler()"
      ]
     },
     "execution_count": 15,
     "metadata": {},
     "output_type": "execute_result"
    }
   ],
   "source": [
    "# Determine scaler shape for x_train\n",
    "scaler.fit(x_train)"
   ]
  },
  {
   "cell_type": "code",
   "execution_count": 16,
   "id": "a1e89e3c",
   "metadata": {},
   "outputs": [],
   "source": [
    "# Apply scalter x_train and x_test\n",
    "x_train = scaler.transform(x_train)\n",
    "x_test = scaler.transform(x_test)"
   ]
  },
  {
   "cell_type": "code",
   "execution_count": 17,
   "id": "014a01b4",
   "metadata": {},
   "outputs": [],
   "source": [
    "# Create Model\n",
    "model = Sequential(\n",
    "    [\n",
    "    Dense(30, activation=\"relu\", name=\"layer1\"),\n",
    "    Dense(15, activation=\"relu\", name=\"layer2\"),\n",
    "    Dense(15, activation=\"relu\", name=\"layer3\"),\n",
    "    Dense(1, activation=\"sigmoid\", name=\"layer4\")\n",
    "    ], \n",
    ") "
   ]
  },
  {
   "cell_type": "code",
   "execution_count": 18,
   "id": "52690e1e",
   "metadata": {},
   "outputs": [
    {
     "name": "stdout",
     "output_type": "stream",
     "text": [
      "Epoch 1/100\n",
      "21/21 [==============================] - 0s 9ms/step - loss: 0.6700 - val_loss: 0.6673\n",
      "Epoch 2/100\n",
      "21/21 [==============================] - 0s 1ms/step - loss: 0.6502 - val_loss: 0.6466\n",
      "Epoch 3/100\n",
      "21/21 [==============================] - 0s 2ms/step - loss: 0.6255 - val_loss: 0.6203\n",
      "Epoch 4/100\n",
      "21/21 [==============================] - 0s 2ms/step - loss: 0.5976 - val_loss: 0.5871\n",
      "Epoch 5/100\n",
      "21/21 [==============================] - 0s 1ms/step - loss: 0.5643 - val_loss: 0.5496\n",
      "Epoch 6/100\n",
      "21/21 [==============================] - 0s 1ms/step - loss: 0.5302 - val_loss: 0.5098\n",
      "Epoch 7/100\n",
      "21/21 [==============================] - 0s 1ms/step - loss: 0.4937 - val_loss: 0.4850\n",
      "Epoch 8/100\n",
      "21/21 [==============================] - 0s 1ms/step - loss: 0.4631 - val_loss: 0.4391\n",
      "Epoch 9/100\n",
      "21/21 [==============================] - 0s 1ms/step - loss: 0.4311 - val_loss: 0.4138\n",
      "Epoch 10/100\n",
      "21/21 [==============================] - 0s 1ms/step - loss: 0.4057 - val_loss: 0.3886\n",
      "Epoch 11/100\n",
      "21/21 [==============================] - 0s 1ms/step - loss: 0.3865 - val_loss: 0.3724\n",
      "Epoch 12/100\n",
      "21/21 [==============================] - 0s 1ms/step - loss: 0.3720 - val_loss: 0.3582\n",
      "Epoch 13/100\n",
      "21/21 [==============================] - 0s 1ms/step - loss: 0.3616 - val_loss: 0.3461\n",
      "Epoch 14/100\n",
      "21/21 [==============================] - 0s 1ms/step - loss: 0.3529 - val_loss: 0.3376\n",
      "Epoch 15/100\n",
      "21/21 [==============================] - 0s 1ms/step - loss: 0.3454 - val_loss: 0.3583\n",
      "Epoch 16/100\n",
      "21/21 [==============================] - 0s 1ms/step - loss: 0.3427 - val_loss: 0.3356\n",
      "Epoch 17/100\n",
      "21/21 [==============================] - 0s 2ms/step - loss: 0.3284 - val_loss: 0.3179\n",
      "Epoch 18/100\n",
      "21/21 [==============================] - 0s 2ms/step - loss: 0.3236 - val_loss: 0.3167\n",
      "Epoch 19/100\n",
      "21/21 [==============================] - 0s 1ms/step - loss: 0.3198 - val_loss: 0.3093\n",
      "Epoch 20/100\n",
      "21/21 [==============================] - 0s 2ms/step - loss: 0.3141 - val_loss: 0.3053\n",
      "Epoch 21/100\n",
      "21/21 [==============================] - 0s 1ms/step - loss: 0.3097 - val_loss: 0.2985\n",
      "Epoch 22/100\n",
      "21/21 [==============================] - 0s 1ms/step - loss: 0.3069 - val_loss: 0.2930\n",
      "Epoch 23/100\n",
      "21/21 [==============================] - 0s 1ms/step - loss: 0.3058 - val_loss: 0.2960\n",
      "Epoch 24/100\n",
      "21/21 [==============================] - 0s 1ms/step - loss: 0.2977 - val_loss: 0.2840\n",
      "Epoch 25/100\n",
      "21/21 [==============================] - 0s 1ms/step - loss: 0.2936 - val_loss: 0.2795\n",
      "Epoch 26/100\n",
      "21/21 [==============================] - 0s 1ms/step - loss: 0.2906 - val_loss: 0.2973\n",
      "Epoch 27/100\n",
      "21/21 [==============================] - 0s 1ms/step - loss: 0.2851 - val_loss: 0.2733\n",
      "Epoch 28/100\n",
      "21/21 [==============================] - 0s 1ms/step - loss: 0.2818 - val_loss: 0.2994\n",
      "Epoch 29/100\n",
      "21/21 [==============================] - 0s 1ms/step - loss: 0.2813 - val_loss: 0.2699\n",
      "Epoch 30/100\n",
      "21/21 [==============================] - 0s 1ms/step - loss: 0.2781 - val_loss: 0.2724\n",
      "Epoch 31/100\n",
      "21/21 [==============================] - 0s 2ms/step - loss: 0.2725 - val_loss: 0.2650\n",
      "Epoch 32/100\n",
      "21/21 [==============================] - 0s 1ms/step - loss: 0.2734 - val_loss: 0.2679\n",
      "Epoch 33/100\n",
      "21/21 [==============================] - 0s 2ms/step - loss: 0.2689 - val_loss: 0.2647\n",
      "Epoch 34/100\n",
      "21/21 [==============================] - 0s 1ms/step - loss: 0.2665 - val_loss: 0.2609\n",
      "Epoch 35/100\n",
      "21/21 [==============================] - 0s 2ms/step - loss: 0.2655 - val_loss: 0.2552\n",
      "Epoch 36/100\n",
      "21/21 [==============================] - 0s 2ms/step - loss: 0.2648 - val_loss: 0.2539\n",
      "Epoch 37/100\n",
      "21/21 [==============================] - 0s 2ms/step - loss: 0.2589 - val_loss: 0.2530\n",
      "Epoch 38/100\n",
      "21/21 [==============================] - 0s 1ms/step - loss: 0.2570 - val_loss: 0.2572\n",
      "Epoch 39/100\n",
      "21/21 [==============================] - 0s 2ms/step - loss: 0.2593 - val_loss: 0.2510\n",
      "Epoch 40/100\n",
      "21/21 [==============================] - 0s 1ms/step - loss: 0.2572 - val_loss: 0.2641\n",
      "Epoch 41/100\n",
      "21/21 [==============================] - 0s 2ms/step - loss: 0.2676 - val_loss: 0.2502\n",
      "Epoch 42/100\n",
      "21/21 [==============================] - 0s 1ms/step - loss: 0.2595 - val_loss: 0.2650\n",
      "Epoch 43/100\n",
      "21/21 [==============================] - 0s 2ms/step - loss: 0.2611 - val_loss: 0.2520\n",
      "Epoch 44/100\n",
      "21/21 [==============================] - 0s 2ms/step - loss: 0.2577 - val_loss: 0.2536\n",
      "Epoch 45/100\n",
      "21/21 [==============================] - 0s 2ms/step - loss: 0.2516 - val_loss: 0.2576\n",
      "Epoch 46/100\n",
      "21/21 [==============================] - 0s 2ms/step - loss: 0.2512 - val_loss: 0.2495\n",
      "Epoch 47/100\n",
      "21/21 [==============================] - 0s 2ms/step - loss: 0.2501 - val_loss: 0.2472\n",
      "Epoch 48/100\n",
      "21/21 [==============================] - 0s 2ms/step - loss: 0.2503 - val_loss: 0.2480\n",
      "Epoch 49/100\n",
      "21/21 [==============================] - 0s 1ms/step - loss: 0.2451 - val_loss: 0.2490\n",
      "Epoch 50/100\n",
      "21/21 [==============================] - 0s 1ms/step - loss: 0.2474 - val_loss: 0.2547\n",
      "Epoch 51/100\n",
      "21/21 [==============================] - 0s 1ms/step - loss: 0.2484 - val_loss: 0.2542\n",
      "Epoch 52/100\n",
      "21/21 [==============================] - 0s 2ms/step - loss: 0.2470 - val_loss: 0.2581\n",
      "Epoch 53/100\n",
      "21/21 [==============================] - 0s 2ms/step - loss: 0.2475 - val_loss: 0.2525\n",
      "Epoch 54/100\n",
      "21/21 [==============================] - 0s 1ms/step - loss: 0.2438 - val_loss: 0.2512\n",
      "Epoch 55/100\n",
      "21/21 [==============================] - 0s 1ms/step - loss: 0.2462 - val_loss: 0.2467\n",
      "Epoch 56/100\n",
      "21/21 [==============================] - 0s 1ms/step - loss: 0.2429 - val_loss: 0.2515\n",
      "Epoch 57/100\n",
      "21/21 [==============================] - 0s 1ms/step - loss: 0.2447 - val_loss: 0.2444\n",
      "Epoch 58/100\n",
      "21/21 [==============================] - 0s 1ms/step - loss: 0.2443 - val_loss: 0.2448\n",
      "Epoch 59/100\n",
      "21/21 [==============================] - 0s 1ms/step - loss: 0.2428 - val_loss: 0.2443\n",
      "Epoch 60/100\n",
      "21/21 [==============================] - 0s 1ms/step - loss: 0.2446 - val_loss: 0.2542\n",
      "Epoch 61/100\n",
      "21/21 [==============================] - 0s 1ms/step - loss: 0.2412 - val_loss: 0.2447\n",
      "Epoch 62/100\n",
      "21/21 [==============================] - 0s 1ms/step - loss: 0.2412 - val_loss: 0.2441\n",
      "Epoch 63/100\n",
      "21/21 [==============================] - 0s 1ms/step - loss: 0.2419 - val_loss: 0.2456\n",
      "Epoch 64/100\n",
      "21/21 [==============================] - 0s 1ms/step - loss: 0.2423 - val_loss: 0.2449\n",
      "Epoch 65/100\n",
      "21/21 [==============================] - 0s 1ms/step - loss: 0.2392 - val_loss: 0.2529\n",
      "Epoch 66/100\n",
      "21/21 [==============================] - 0s 1ms/step - loss: 0.2388 - val_loss: 0.2478\n",
      "Epoch 67/100\n",
      "21/21 [==============================] - 0s 1ms/step - loss: 0.2384 - val_loss: 0.2477\n",
      "Epoch 68/100\n",
      "21/21 [==============================] - 0s 1ms/step - loss: 0.2390 - val_loss: 0.2567\n",
      "Epoch 69/100\n",
      "21/21 [==============================] - 0s 1ms/step - loss: 0.2434 - val_loss: 0.2473\n",
      "Epoch 70/100\n",
      "21/21 [==============================] - 0s 1ms/step - loss: 0.2367 - val_loss: 0.2445\n",
      "Epoch 71/100\n",
      "21/21 [==============================] - 0s 1ms/step - loss: 0.2373 - val_loss: 0.2462\n",
      "Epoch 72/100\n",
      "21/21 [==============================] - 0s 1ms/step - loss: 0.2401 - val_loss: 0.2451\n",
      "Epoch 73/100\n",
      "21/21 [==============================] - 0s 1ms/step - loss: 0.2409 - val_loss: 0.2523\n",
      "Epoch 74/100\n",
      "21/21 [==============================] - 0s 1ms/step - loss: 0.2406 - val_loss: 0.2651\n",
      "Epoch 75/100\n",
      "21/21 [==============================] - 0s 1ms/step - loss: 0.2350 - val_loss: 0.2441\n",
      "Epoch 76/100\n",
      "21/21 [==============================] - 0s 1ms/step - loss: 0.2340 - val_loss: 0.2530\n",
      "Epoch 77/100\n",
      "21/21 [==============================] - 0s 1ms/step - loss: 0.2378 - val_loss: 0.2479\n",
      "Epoch 78/100\n",
      "21/21 [==============================] - 0s 1ms/step - loss: 0.2401 - val_loss: 0.2449\n",
      "Epoch 79/100\n",
      "21/21 [==============================] - 0s 1ms/step - loss: 0.2383 - val_loss: 0.2512\n",
      "Epoch 80/100\n",
      "21/21 [==============================] - 0s 1ms/step - loss: 0.2440 - val_loss: 0.2451\n",
      "Epoch 81/100\n",
      "21/21 [==============================] - 0s 1ms/step - loss: 0.2309 - val_loss: 0.2588\n",
      "Epoch 82/100\n",
      "21/21 [==============================] - 0s 1ms/step - loss: 0.2415 - val_loss: 0.2487\n",
      "Epoch 83/100\n"
     ]
    },
    {
     "name": "stdout",
     "output_type": "stream",
     "text": [
      "21/21 [==============================] - 0s 1ms/step - loss: 0.2394 - val_loss: 0.2430\n",
      "Epoch 84/100\n",
      "21/21 [==============================] - 0s 1ms/step - loss: 0.2297 - val_loss: 0.2505\n",
      "Epoch 85/100\n",
      "21/21 [==============================] - 0s 1ms/step - loss: 0.2381 - val_loss: 0.2477\n",
      "Epoch 86/100\n",
      "21/21 [==============================] - 0s 1ms/step - loss: 0.2320 - val_loss: 0.2506\n",
      "Epoch 87/100\n",
      "21/21 [==============================] - 0s 1ms/step - loss: 0.2301 - val_loss: 0.2449\n",
      "Epoch 88/100\n",
      "21/21 [==============================] - 0s 1ms/step - loss: 0.2355 - val_loss: 0.2443\n",
      "Epoch 89/100\n",
      "21/21 [==============================] - 0s 1ms/step - loss: 0.2301 - val_loss: 0.2690\n",
      "Epoch 90/100\n",
      "21/21 [==============================] - 0s 1ms/step - loss: 0.2327 - val_loss: 0.2426\n",
      "Epoch 91/100\n",
      "21/21 [==============================] - 0s 1ms/step - loss: 0.2307 - val_loss: 0.2495\n",
      "Epoch 92/100\n",
      "21/21 [==============================] - 0s 1ms/step - loss: 0.2317 - val_loss: 0.2454\n",
      "Epoch 93/100\n",
      "21/21 [==============================] - 0s 1ms/step - loss: 0.2312 - val_loss: 0.2461\n",
      "Epoch 94/100\n",
      "21/21 [==============================] - 0s 1ms/step - loss: 0.2299 - val_loss: 0.2552\n",
      "Epoch 95/100\n",
      "21/21 [==============================] - 0s 1ms/step - loss: 0.2302 - val_loss: 0.2434\n",
      "Epoch 96/100\n",
      "21/21 [==============================] - 0s 1ms/step - loss: 0.2306 - val_loss: 0.2442\n",
      "Epoch 97/100\n",
      "21/21 [==============================] - 0s 1ms/step - loss: 0.2287 - val_loss: 0.2461\n",
      "Epoch 98/100\n",
      "21/21 [==============================] - 0s 1ms/step - loss: 0.2293 - val_loss: 0.2484\n",
      "Epoch 99/100\n",
      "21/21 [==============================] - 0s 1ms/step - loss: 0.2263 - val_loss: 0.2436\n",
      "Epoch 100/100\n",
      "21/21 [==============================] - 0s 1ms/step - loss: 0.2273 - val_loss: 0.2419\n"
     ]
    },
    {
     "data": {
      "text/plain": [
       "<keras.src.callbacks.History at 0x2801704d0>"
      ]
     },
     "execution_count": 18,
     "metadata": {},
     "output_type": "execute_result"
    }
   ],
   "source": [
    "# Compile and fit the model\n",
    "model.compile(loss=\"binary_crossentropy\",optimizer = \"adam\")\n",
    "\n",
    "model.fit(x=x_train, y=y_train, epochs=100,validation_data=(x_test,y_test),verbose=1)"
   ]
  },
  {
   "cell_type": "code",
   "execution_count": 19,
   "id": "29046cd1",
   "metadata": {},
   "outputs": [
    {
     "data": {
      "text/plain": [
       "{'loss': [0.6699793934822083,\n",
       "  0.65018630027771,\n",
       "  0.6254876255989075,\n",
       "  0.5975691676139832,\n",
       "  0.5642938613891602,\n",
       "  0.5301954746246338,\n",
       "  0.49370208382606506,\n",
       "  0.4630935490131378,\n",
       "  0.43113020062446594,\n",
       "  0.40566834807395935,\n",
       "  0.3864558935165405,\n",
       "  0.37199926376342773,\n",
       "  0.361571729183197,\n",
       "  0.3528742492198944,\n",
       "  0.34544259309768677,\n",
       "  0.3426997661590576,\n",
       "  0.32837289571762085,\n",
       "  0.32362204790115356,\n",
       "  0.3197789788246155,\n",
       "  0.3140961229801178,\n",
       "  0.30966779589653015,\n",
       "  0.3069181442260742,\n",
       "  0.3058231472969055,\n",
       "  0.29766058921813965,\n",
       "  0.2936405837535858,\n",
       "  0.2905740439891815,\n",
       "  0.2850760817527771,\n",
       "  0.28180521726608276,\n",
       "  0.2813224792480469,\n",
       "  0.2780579924583435,\n",
       "  0.27250394225120544,\n",
       "  0.2734341025352478,\n",
       "  0.268863707780838,\n",
       "  0.26649585366249084,\n",
       "  0.26550722122192383,\n",
       "  0.2647601068019867,\n",
       "  0.2588898539543152,\n",
       "  0.2570198178291321,\n",
       "  0.2592686414718628,\n",
       "  0.25719842314720154,\n",
       "  0.2675945460796356,\n",
       "  0.2594521939754486,\n",
       "  0.26112064719200134,\n",
       "  0.25774288177490234,\n",
       "  0.25158774852752686,\n",
       "  0.2511933147907257,\n",
       "  0.25009945034980774,\n",
       "  0.2502680718898773,\n",
       "  0.24510318040847778,\n",
       "  0.24743247032165527,\n",
       "  0.24839873611927032,\n",
       "  0.24699966609477997,\n",
       "  0.2474917769432068,\n",
       "  0.24384519457817078,\n",
       "  0.24623695015907288,\n",
       "  0.2429194152355194,\n",
       "  0.24468068778514862,\n",
       "  0.24428842961788177,\n",
       "  0.24277561902999878,\n",
       "  0.24455110728740692,\n",
       "  0.2412455528974533,\n",
       "  0.241200253367424,\n",
       "  0.24185431003570557,\n",
       "  0.24228909611701965,\n",
       "  0.23915626108646393,\n",
       "  0.2388111799955368,\n",
       "  0.23843035101890564,\n",
       "  0.2389741837978363,\n",
       "  0.2434278130531311,\n",
       "  0.23665253818035126,\n",
       "  0.2372896373271942,\n",
       "  0.24011200666427612,\n",
       "  0.24089568853378296,\n",
       "  0.24064312875270844,\n",
       "  0.23503708839416504,\n",
       "  0.23397494852542877,\n",
       "  0.23782934248447418,\n",
       "  0.24008436501026154,\n",
       "  0.23826469480991364,\n",
       "  0.24403229355812073,\n",
       "  0.230926975607872,\n",
       "  0.24153661727905273,\n",
       "  0.2393844872713089,\n",
       "  0.22974875569343567,\n",
       "  0.23808647692203522,\n",
       "  0.23195037245750427,\n",
       "  0.23013702034950256,\n",
       "  0.2355329543352127,\n",
       "  0.23009340465068817,\n",
       "  0.23265014588832855,\n",
       "  0.23065435886383057,\n",
       "  0.23170596361160278,\n",
       "  0.23119887709617615,\n",
       "  0.2298944741487503,\n",
       "  0.23022133111953735,\n",
       "  0.23059099912643433,\n",
       "  0.22873742878437042,\n",
       "  0.22933265566825867,\n",
       "  0.22633624076843262,\n",
       "  0.2272779494524002],\n",
       " 'val_loss': [0.6673217415809631,\n",
       "  0.6465970277786255,\n",
       "  0.6202816367149353,\n",
       "  0.5870550274848938,\n",
       "  0.5496379733085632,\n",
       "  0.5098361372947693,\n",
       "  0.48499399423599243,\n",
       "  0.43914687633514404,\n",
       "  0.413810133934021,\n",
       "  0.3885743021965027,\n",
       "  0.3723740875720978,\n",
       "  0.35822173953056335,\n",
       "  0.3460909128189087,\n",
       "  0.337643027305603,\n",
       "  0.35831010341644287,\n",
       "  0.33561021089553833,\n",
       "  0.3178563416004181,\n",
       "  0.31667208671569824,\n",
       "  0.3092952370643616,\n",
       "  0.3053114414215088,\n",
       "  0.29848459362983704,\n",
       "  0.2929610013961792,\n",
       "  0.2959941327571869,\n",
       "  0.2839685082435608,\n",
       "  0.2794564366340637,\n",
       "  0.2973327934741974,\n",
       "  0.2732754647731781,\n",
       "  0.2993941009044647,\n",
       "  0.2698587477207184,\n",
       "  0.2723948657512665,\n",
       "  0.2649667263031006,\n",
       "  0.2678990960121155,\n",
       "  0.2647363841533661,\n",
       "  0.2609037160873413,\n",
       "  0.2551521956920624,\n",
       "  0.2539151906967163,\n",
       "  0.2529667317867279,\n",
       "  0.2571950852870941,\n",
       "  0.25095829367637634,\n",
       "  0.26408275961875916,\n",
       "  0.25017380714416504,\n",
       "  0.26501449942588806,\n",
       "  0.25197601318359375,\n",
       "  0.25357237458229065,\n",
       "  0.2575543224811554,\n",
       "  0.24945613741874695,\n",
       "  0.2472282201051712,\n",
       "  0.24798493087291718,\n",
       "  0.24898666143417358,\n",
       "  0.2547348141670227,\n",
       "  0.2542407512664795,\n",
       "  0.2581447660923004,\n",
       "  0.252494752407074,\n",
       "  0.2512449324131012,\n",
       "  0.24665509164333344,\n",
       "  0.25146374106407166,\n",
       "  0.24437734484672546,\n",
       "  0.24482111632823944,\n",
       "  0.24428234994411469,\n",
       "  0.2541526257991791,\n",
       "  0.2447001338005066,\n",
       "  0.24407808482646942,\n",
       "  0.24559813737869263,\n",
       "  0.24492275714874268,\n",
       "  0.25288859009742737,\n",
       "  0.24784310162067413,\n",
       "  0.24772703647613525,\n",
       "  0.2566911280155182,\n",
       "  0.2473059743642807,\n",
       "  0.24450549483299255,\n",
       "  0.246244877576828,\n",
       "  0.24507220089435577,\n",
       "  0.2523328363895416,\n",
       "  0.2651258707046509,\n",
       "  0.24411623179912567,\n",
       "  0.25300171971321106,\n",
       "  0.24792912602424622,\n",
       "  0.24493776261806488,\n",
       "  0.251200407743454,\n",
       "  0.2451130747795105,\n",
       "  0.2588435411453247,\n",
       "  0.24872168898582458,\n",
       "  0.24301563203334808,\n",
       "  0.25050824880599976,\n",
       "  0.247701033949852,\n",
       "  0.25062334537506104,\n",
       "  0.24490801990032196,\n",
       "  0.244300976395607,\n",
       "  0.26897555589675903,\n",
       "  0.24264343082904816,\n",
       "  0.2494715303182602,\n",
       "  0.2454046756029129,\n",
       "  0.24613922834396362,\n",
       "  0.2552235722541809,\n",
       "  0.2434196174144745,\n",
       "  0.24421127140522003,\n",
       "  0.24609123170375824,\n",
       "  0.24838052690029144,\n",
       "  0.24361784756183624,\n",
       "  0.24186745285987854]}"
      ]
     },
     "execution_count": 19,
     "metadata": {},
     "output_type": "execute_result"
    }
   ],
   "source": [
    "model.history.history"
   ]
  },
  {
   "cell_type": "code",
   "execution_count": 20,
   "id": "08b82154",
   "metadata": {},
   "outputs": [],
   "source": [
    "lossOfModel = pd.DataFrame(model.history.history)"
   ]
  },
  {
   "cell_type": "code",
   "execution_count": 21,
   "id": "9b446bd5",
   "metadata": {},
   "outputs": [
    {
     "data": {
      "text/plain": [
       "<Axes: >"
      ]
     },
     "execution_count": 21,
     "metadata": {},
     "output_type": "execute_result"
    },
    {
     "data": {
      "image/png": "[encoded data removed]",
      "text/plain": [
       "<Figure size 640x480 with 1 Axes>"
      ]
     },
     "metadata": {},
     "output_type": "display_data"
    }
   ],
   "source": [
    "lossOfModel.plot()"
   ]
  },
  {
   "cell_type": "code",
   "execution_count": 22,
   "id": "7ad86157",
   "metadata": {},
   "outputs": [
    {
     "name": "stdout",
     "output_type": "stream",
     "text": [
      "11/11 [==============================] - 0s 539us/step\n"
     ]
    }
   ],
   "source": [
    "# Predict for x_test\n",
    "predictArray = (model.predict(x_test) > 0.5).astype(\"int32\")"
   ]
  },
  {
   "cell_type": "code",
   "execution_count": 23,
   "id": "3c6afb98",
   "metadata": {},
   "outputs": [],
   "source": [
    "from sklearn.metrics import classification_report, confusion_matrix"
   ]
  },
  {
   "cell_type": "code",
   "execution_count": 24,
   "id": "d82ab489",
   "metadata": {},
   "outputs": [
    {
     "data": {
      "text/plain": [
       "array([[0],\n",
       "       [0],\n",
       "       [0],\n",
       "       [1],\n",
       "       [0]], dtype=int32)"
      ]
     },
     "execution_count": 24,
     "metadata": {},
     "output_type": "execute_result"
    }
   ],
   "source": [
    "predictArray[:5]"
   ]
  },
  {
   "cell_type": "code",
   "execution_count": 25,
   "id": "12903a17",
   "metadata": {
    "scrolled": false
   },
   "outputs": [
    {
     "name": "stdout",
     "output_type": "stream",
     "text": [
      "              precision    recall  f1-score   support\n",
      "\n",
      "           0       0.93      0.90      0.92       194\n",
      "           1       0.87      0.90      0.88       136\n",
      "\n",
      "    accuracy                           0.90       330\n",
      "   macro avg       0.90      0.90      0.90       330\n",
      "weighted avg       0.90      0.90      0.90       330\n",
      "\n"
     ]
    }
   ],
   "source": [
    "print(classification_report(y_test,predictArray))"
   ]
  },
  {
   "cell_type": "code",
   "execution_count": 26,
   "id": "f93adbb5",
   "metadata": {},
   "outputs": [
    {
     "name": "stdout",
     "output_type": "stream",
     "text": [
      "[[175  19]\n",
      " [ 13 123]]\n"
     ]
    }
   ],
   "source": [
    "# Comparison t_test and predicting data(predictArray) \n",
    "print(confusion_matrix(y_test,predictArray))"
   ]
  },
  {
   "cell_type": "code",
   "execution_count": null,
   "id": "c9bf8b79",
   "metadata": {},
   "outputs": [],
   "source": []
  }
 ],
 "metadata": {
  "kernelspec": {
   "display_name": "Python 3 (ipykernel)",
   "language": "python",
   "name": "python3"
  },
  "language_info": {
   "codemirror_mode": {
    "name": "ipython",
    "version": 3
   },
   "file_extension": ".py",
   "mimetype": "text/x-python",
   "name": "python",
   "nbconvert_exporter": "python",
   "pygments_lexer": "ipython3",
   "version": "3.11.3"
  }
 },
 "nbformat": 4,
 "nbformat_minor": 5
}
